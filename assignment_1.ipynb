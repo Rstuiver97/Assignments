{
 "cells": [
  {
   "cell_type": "markdown",
   "metadata": {},
   "source": [
    "# Fill in the following table \n",
    "\n",
    "For each student in your group give the name, SNR and email address. Recall that you can do the assignment on your own or in a group of max three students.\n",
    "\n",
    "Fill in the [Markdown table](https://github.com/adam-p/markdown-here/wiki/Markdown-Cheatsheet#tables) below (with your real names etc.):\n",
    "\n",
    "|name|SNR|email|\n",
    "|----|---|-----|\n",
    "|1. Antoine Augustin Cournot|1801|cournot@qties.fr|\n",
    "|2. Joseph Bertrand| 1822|bertrand@prices.fr|\n",
    "\n",
    "Once you are finished with the notebook, rename the file to 'Assignment1_(surname of first team member).ipynb' (eg. Assignment1_Cournot.ipynb) and email it to Clemens Fiedler ([c.fiedler@uvt.nl](mailto:c.fiedler@uvt.nl))."
   ]
  },
  {
   "cell_type": "markdown",
   "metadata": {
    "deletable": false,
    "editable": false,
    "nbgrader": {
     "checksum": "0c24a36fc3f1cb17477dd15cde61fe7c",
     "grade": false,
     "grade_id": "cell-ec730967e290dc54",
     "locked": true,
     "schema_version": 1,
     "solution": false
    }
   },
   "source": [
    "This assignment will be partially auto-graded. For this, it is important that you fill in your code in the correct cells. For this replace the following 2 lines in each cell by your own code:\n",
    "```python\n",
    "# YOUR CODE HERE\n",
    "raise NotImplementedError()\n",
    "```\n",
    "\n",
    "`raise NotImplementedError()` raises an exception (error), telling Python that no answer was provided. Exception, while outside of the scope of this course, are very useful in more complicated pieces of software. They typically conclude an error message and a specific behaviour. The goal is to make sure that an error in one function of a programm does not crash the whole programme. For example, calculating $\\frac{1}{0}$ gives a `ZeroDivisionError` error, after which Python will continue with the any further calculations. (Just imagine the alternative of your whole computer crashing whenever you divide a number by $0$!)"
   ]
  },
  {
   "cell_type": "markdown",
   "metadata": {
    "deletable": false,
    "editable": false,
    "nbgrader": {
     "checksum": "6bfa32a705c36070693d761e9f186c2d",
     "grade": false,
     "grade_id": "cell-7cd6e405790bd090",
     "locked": true,
     "schema_version": 1,
     "solution": false
    }
   },
   "source": [
    "# Assignment 1 [10 points]\n",
    "\n",
    "*Due on Tuesday, 19 March 2019* (noon, 12:01 at the latest)\n",
    "\n",
    "In this assignment, we consider a Cournot duopoly with heterogeneous products. We consider the possibility of a cartel formed by both firms and what punishment strategies can be implemented.\n",
    "\n",
    "### IMPORTANT: Before submitting the assignment use `Kernel > Restart & Run All` and check your outputs to make sure that your code functions. "
   ]
  },
  {
   "cell_type": "markdown",
   "metadata": {
    "deletable": false,
    "editable": false,
    "nbgrader": {
     "checksum": "30757085efba395fd3d636d1ae914e7e",
     "grade": false,
     "grade_id": "cell-7a72d6300be08ade",
     "locked": true,
     "schema_version": 1,
     "solution": false
    }
   },
   "source": [
    "As always, we import the following libraries. Note that this cell is read-only. To finish the assignment you do not need to import additional libraries. "
   ]
  },
  {
   "cell_type": "code",
   "execution_count": null,
   "metadata": {
    "deletable": false,
    "editable": false,
    "nbgrader": {
     "checksum": "dd08b715c954b7974e91c8991ae4ef18",
     "grade": false,
     "grade_id": "cell-db4957a02c4d8f6f",
     "locked": true,
     "schema_version": 1,
     "solution": false
    }
   },
   "outputs": [],
   "source": [
    "from scipy import optimize,arange\n",
    "from numpy import array, arange\n",
    "\n",
    "import numpy as np\n",
    "\n",
    "import matplotlib.pyplot as plt\n",
    "\n",
    "%matplotlib inline"
   ]
  },
  {
   "cell_type": "markdown",
   "metadata": {
    "deletable": false,
    "editable": false,
    "nbgrader": {
     "checksum": "b0f0432b0a1234a78a8e8dbe40b21874",
     "grade": false,
     "grade_id": "cell-b1ffa426e434c5c8",
     "locked": true,
     "schema_version": 1,
     "solution": false
    }
   },
   "source": [
    "## Set-up\n",
    "\n",
    "We define a linear demand curve, $p_i(x_i,x_j) = 1 - x_i - b x_j$ where $b \\in \\langle 0,1]$ determines the elasticity of substitution between the goods. With $b=1$ the goods are perfect substitutes, with $b<1$ the goods are differentiated.\n",
    "\n",
    "We assume constant marginal costs, that is total costs are given by $c(x)=cx$. Note that `demand` is defined for the firm indexed as i with the other firm indexed as j.\n",
    "\n",
    "When we do the maths, we write $p_i(x_i,x_j)$ without mentioning that $b$ is a parameter as well. We could do the same in Python, but then it is not so straightforward to change $b$ later on. Therefore, the function `demand` is written as a function of $b$ explicitly."
   ]
  },
  {
   "cell_type": "markdown",
   "metadata": {
    "deletable": false,
    "editable": false,
    "nbgrader": {
     "checksum": "9b4ef946b1fb3473ab76219bd347d77d",
     "grade": false,
     "grade_id": "cell-d596510290f1129c",
     "locked": true,
     "schema_version": 1,
     "solution": false
    }
   },
   "source": [
    "## Costs, demand, profits and reaction function\n",
    "\n",
    "For this assignment, we will eliminate the posibility of negative prices. Note the difference in the demand function."
   ]
  },
  {
   "cell_type": "code",
   "execution_count": null,
   "metadata": {
    "deletable": false,
    "editable": false,
    "nbgrader": {
     "checksum": "5b6b0a21118570c85703fa46b369fd32",
     "grade": false,
     "grade_id": "cell-83e3b49e4de1ddf9",
     "locked": true,
     "schema_version": 1,
     "solution": false
    }
   },
   "outputs": [],
   "source": [
    "def cost(x,c):\n",
    "    if x == 0:\n",
    "        cost = 0\n",
    "    else:\n",
    "        cost = c*x\n",
    "    return cost\n",
    "\n",
    "def demand(x1,x2,b):\n",
    "    return max(1-x1-b*x2,0)\n",
    "\n",
    "def profit(x1,x2,c1,b):\n",
    "    return demand(x1,x2,b)*x1 - cost(x1,c1)\n",
    "\n",
    "def reaction(x2,c1,b):\n",
    "    x1 = optimize.brute(lambda x: -profit(x,x2,c1,b), ((0,1,),))\n",
    "    return x1[0]\n",
    "\n",
    "def vector_reaction(x,param): # vector param = (b,c1,c2)\n",
    "    return array(x) - array([reaction(x[1],param[1],param[0]),\n",
    "                             reaction(x[0],param[2],param[0])])"
   ]
  },
  {
   "cell_type": "markdown",
   "metadata": {
    "deletable": false,
    "editable": false,
    "nbgrader": {
     "checksum": "c98bcf866a83bd8839423b22e879487f",
     "grade": false,
     "grade_id": "cell-e68b5f88581ab30e",
     "locked": true,
     "schema_version": 1,
     "solution": false
    }
   },
   "source": [
    "# a) [1 points] Define two functions:\n",
    "\n",
    "- Assume that $b=0.9,c1=c2=0.1$.\n",
    "- Define`eq_cournot(c1,c2,b)` as a function that returns the Cournot equilibrium (two quantities, one for each firm) for the given parameters. \n",
    "- Define `monopoly(c)` as a function that returns the monopoly quantities, one for each firm?\n",
    "- Verify that the Cournot quantities are equal to $~0.31$ and the monopoly quantities to $~0.24$.\n",
    "- Compute Cournot and monopoly profits.\n",
    "\n",
    "(NOTE: We have already defined param and x0 for you, complete the rest)\n",
    "\n",
    "(IMPORTANT: make sure that monopoly(c) returns a number, not an array. You might need to add [0] at the end of the return statement: `return something[0]` instead of `return something`)"
   ]
  },
  {
   "cell_type": "code",
   "execution_count": null,
   "metadata": {
    "deletable": false,
    "nbgrader": {
     "checksum": "0dc492af7cce726e511ee2b37eae5dfc",
     "grade": true,
     "grade_id": "A",
     "locked": false,
     "points": 1,
     "schema_version": 1,
     "solution": true
    }
   },
   "outputs": [],
   "source": [
    "\n",
    "def eq_cournot(c1,c2,b):\n",
    "    param = [b,c1,c2]\n",
    "    x0 = [0.3, 0.3]\n",
    "    \n",
    "    # YOUR CODE HERE\n",
    "    raise NotImplementedError()\n",
    "\n",
    "def monopoly(c):\n",
    "    \n",
    "    # YOUR CODE HERE\n",
    "    raise NotImplementedError()\n",
    "\n",
    "print('Cournot Equilibrium')\n",
    "print('quantities: {:.2f}'.format(q_cournot[0]))\n",
    "print('profits:    {:.2f}'.format(profit_cournot))\n",
    "\n",
    "print('\\nMonopoly')\n",
    "print('quantities: {:.2f}'.format(q_monopoly))\n",
    "print('profits:    {:.2f}'.format(profit_monopoly))\n"
   ]
  },
  {
   "cell_type": "markdown",
   "metadata": {
    "deletable": false,
    "editable": false,
    "nbgrader": {
     "checksum": "7565511d05ff1b263e97eaf452d6dfa7",
     "grade": false,
     "grade_id": "cell-a4ba4e31b1708786",
     "locked": true,
     "schema_version": 1,
     "solution": false
    }
   },
   "source": [
    "### b) [1 points] Consider a cartel where each firm produces half of the monopoly output. Complete the function `cartel_profits(c,b)` so that it performs the following steps:\n",
    "\n",
    "1. Calculate the cartel quantities and call them `cartel_quantities`\n",
    "2. Calculate the cartel profits and call them `cartel_profits`\n",
    "3. Calculate the optimal cheating quantity that firm 1 should produce to respond to the cartel_quantity of firm 2. Call this `cheat_quantity`\n",
    "4. Calculate the profits the firm 1 makes if it cheats like this and call this `cheat_profits`\n",
    "5. Finally the function returns `cartel_profits, cheat_profits`\n",
    "6. You can check your results by calculating `cartel_profits(0.0,1)`, which should give `~(0.125, 0.141)`"
   ]
  },
  {
   "cell_type": "code",
   "execution_count": null,
   "metadata": {
    "deletable": false,
    "nbgrader": {
     "checksum": "6f94e3ed076b016e44b102d8aafd3419",
     "grade": true,
     "grade_id": "C",
     "locked": false,
     "points": 1,
     "schema_version": 1,
     "solution": true
    }
   },
   "outputs": [],
   "source": [
    "def cartel_profits(c,b):\n",
    "    \n",
    "    # YOUR CODE HERE\n",
    "    raise NotImplementedError()\n",
    "    \n",
    "    return cartel_profits, cheat_profits"
   ]
  },
  {
   "cell_type": "markdown",
   "metadata": {
    "deletable": false,
    "editable": false,
    "nbgrader": {
     "checksum": "56d39342ed7dce7fe8f25e5e8f394530",
     "grade": false,
     "grade_id": "cell-5617d25e243b6e76",
     "locked": true,
     "schema_version": 1,
     "solution": false
    }
   },
   "source": [
    "### c) [2 points] Consider the following cartel:\n",
    "\n",
    "- During the cartel firms' profits are $\\pi_\\text{cartel}$.\n",
    "- If firm $j$ deviates it obtains profits of $\\pi_\\text{cheat}$.\n",
    "- Once firm $j$ has deviated, firm $i$ will punish it indefinetly. Profits during punishment are $\\pi_\\text{punishment}$.\n",
    "- Assume: $\\pi_\\text{cheat}>\\pi_\\text{cartel}>\\pi_\\text{punishment}$\n",
    "\n",
    "(1) Show mathematically that a cartel is stable if $\\pi_\\text{cartel} > (1-\\delta)\\pi_\\text{cheat} + \\delta\\pi_\\text{punishment}$. \n",
    "\n",
    "(2) Show mathematically for which levels of $\\delta$ the cartel is stable?\n",
    "\n",
    "(3) Define the function `critical_delta_grim(profit_cartel, profit_cheat, profit_punishment)` that \n",
    "returns the critical value of $\\delta$ that makes collusion stable. \n",
    "\n",
    "(4) Show that `critical_delta_grim(1, 2.5, 0.5)=0.75`\n",
    "\n",
    "(5) In our set-up, what is the critical $\\delta$ if each firm produces its monopoly output as part of the cartel arrangement and any deviation leads to firms producing the Cournot output for the rest of time? (Assume that `b = 0.9; c = 0.1`.)"
   ]
  },
  {
   "cell_type": "markdown",
   "metadata": {
    "deletable": false,
    "nbgrader": {
     "checksum": "4a843a4b7b2b083bb7caac1fc6303866",
     "grade": true,
     "grade_id": "D1",
     "locked": false,
     "points": 1,
     "schema_version": 1,
     "solution": true
    }
   },
   "source": [
    "YOUR ANSWER HERE"
   ]
  },
  {
   "cell_type": "code",
   "execution_count": null,
   "metadata": {
    "deletable": false,
    "nbgrader": {
     "checksum": "f926934aaa2e7aa5e6295fff2a21b216",
     "grade": true,
     "grade_id": "D2",
     "locked": false,
     "points": 1,
     "schema_version": 1,
     "solution": true
    }
   },
   "outputs": [],
   "source": [
    "b = 0.9; c = 0.1\n",
    "\n",
    "def critical_delta_grim(profit_cartel, profit_cheat, profit_punishment):\n",
    "\n",
    "    # YOUR CODE HERE\n",
    "    raise NotImplementedError()\n",
    "\n",
    "\n",
    "# YOUR CODE HERE\n",
    "raise NotImplementedError()\n",
    "\n",
    "print('critical delta: {:.4f}'.format(crit_delta))"
   ]
  },
  {
   "cell_type": "markdown",
   "metadata": {
    "deletable": false,
    "editable": false,
    "nbgrader": {
     "checksum": "f023b3346816a47e2ce71745dc327987",
     "grade": false,
     "grade_id": "cell-dd24ec606f194190",
     "locked": true,
     "schema_version": 1,
     "solution": false
    }
   },
   "source": [
    "### Now consider a cartel that uses a different punishment threat. \n",
    "\n",
    "- As long as no deviation is occurred, each firm produces the monopoly quantity of its product.\n",
    "- If firm $j$ deviates, then firm $i$ and firm $j$ each produce the competitive quantity in the next period.\n",
    "- If both firms comply with this 'punishment', then they revert to producing the cartel quantity in the following period.\n",
    "- If one firm deviates, then the punishment is restarted (competitive output for one period, reversion to cartel quantity afterwards if both comply)."
   ]
  },
  {
   "cell_type": "markdown",
   "metadata": {
    "deletable": false,
    "editable": false,
    "nbgrader": {
     "checksum": "ccb2f2fd0d4ed419d43ab431c4ff4e7f",
     "grade": false,
     "grade_id": "cell-bb4748e9be7f7f1a",
     "locked": true,
     "schema_version": 1,
     "solution": false
    }
   },
   "source": [
    "### d) [2 points] Mathematically calculate the quantities that would be produced if an infinite number of firms identical to $i$ and $j$ produced product $1$ and $2$, respectively, under perfect competition. Then define `competitive(c,b)` that returns the competitive amount for one firm. Verify that `competitive(0.1,0.9)~0.47"
   ]
  },
  {
   "cell_type": "markdown",
   "metadata": {
    "deletable": false,
    "nbgrader": {
     "checksum": "4791d776c8369b70173a353d051c9727",
     "grade": true,
     "grade_id": "cell-114a13679955ec8f",
     "locked": false,
     "points": 0,
     "schema_version": 1,
     "solution": true
    }
   },
   "source": [
    "YOUR ANSWER HERE"
   ]
  },
  {
   "cell_type": "code",
   "execution_count": null,
   "metadata": {
    "deletable": false,
    "nbgrader": {
     "checksum": "799ebbf50a9b7d97865abbdaac5b0d8b",
     "grade": true,
     "grade_id": "cell-08de0144e680951d",
     "locked": false,
     "points": 2,
     "schema_version": 1,
     "solution": true
    }
   },
   "outputs": [],
   "source": [
    "def competitive(c,b):\n",
    "    \n",
    "# YOUR CODE HERE\n",
    "raise NotImplementedError()"
   ]
  },
  {
   "cell_type": "markdown",
   "metadata": {
    "deletable": false,
    "editable": false,
    "nbgrader": {
     "checksum": "14c5b295a6c807f7a51597fdcbadb299",
     "grade": false,
     "grade_id": "cell-939e73e47b831068",
     "locked": true,
     "schema_version": 1,
     "solution": false
    }
   },
   "source": [
    "### e) [2 points] Assume we are in the subgame starting after firm $j$ has deviated. Calculate the critical value of $\\delta_\\text{punish}$ such that firm $i$ finds it optimal to produce the competitive quantity, assuming that firm $j$ accepts the punishment and produces the competitive quantity. Define a function `critical_delta_punishment(c,b)` that returns this value.\n",
    "\n",
    "1. Calculate the profits if both firms produce the competitive amount.\n",
    "2. Calculate the best response to the competitive amount.\n",
    "3. What are the profits if the best response is played?\n",
    "4. Combining all, what is the value of the future profits if we stick to the punishment and return to the cartel vs. if we don't punish.\n",
    "5. Verify that `critical_delta_punishment(0.1,0.9)~0.53`"
   ]
  },
  {
   "cell_type": "markdown",
   "metadata": {
    "deletable": false,
    "nbgrader": {
     "checksum": "323927c6e5140fe430dda3a1460cdcdb",
     "grade": true,
     "grade_id": "cell-a6c1b9417f33af34",
     "locked": false,
     "points": 2,
     "schema_version": 1,
     "solution": true
    }
   },
   "source": [
    "YOUR ANSWER HERE"
   ]
  },
  {
   "cell_type": "code",
   "execution_count": null,
   "metadata": {
    "deletable": false,
    "nbgrader": {
     "checksum": "fcd40c69d155e222f8b8957bb69ff238",
     "grade": true,
     "grade_id": "cell-964993972299b547",
     "locked": false,
     "points": 0,
     "schema_version": 1,
     "solution": true
    }
   },
   "outputs": [],
   "source": [
    "def critical_delta_punishment(c,b):\n",
    "    \n",
    "    # YOUR CODE HERE\n",
    "    raise NotImplementedError()"
   ]
  },
  {
   "cell_type": "markdown",
   "metadata": {},
   "source": [
    "### f) [2 points] Assume that the punishment as described above can be successfully carried out. Calculate the critical $\\delta_\\text{harsh}$ such that firms find it profitable to adhere to the cartel quantity instead of cheating and being punished. \n",
    "\n",
    "### Consider three values for $\\delta$: $\\delta_\\text{punish}$,$\\delta_\\text{harsh}$ and $\\delta_\\text{cournot}$. Under which of the two regimes is it easier to sustain collusion? Is it more difficult to incentivise firms to remain in the cartel or perform punishment? Discuss the results."
   ]
  },
  {
   "cell_type": "code",
   "execution_count": null,
   "metadata": {
    "deletable": false,
    "nbgrader": {
     "checksum": "f91145c2b36e2b6ac1af3ef1907bd1e0",
     "grade": true,
     "grade_id": "cell-960c67f40dd4d870",
     "locked": false,
     "points": 0,
     "schema_version": 1,
     "solution": true
    }
   },
   "outputs": [],
   "source": [
    "# YOUR CODE HERE\n",
    "raise NotImplementedError()"
   ]
  },
  {
   "cell_type": "markdown",
   "metadata": {
    "deletable": false,
    "nbgrader": {
     "checksum": "1ca07f3795817f69e8f1c77e6077262e",
     "grade": true,
     "grade_id": "cell-54e37f16bf891b51",
     "locked": false,
     "points": 2,
     "schema_version": 1,
     "solution": true
    }
   },
   "source": [
    "YOUR ANSWER HERE"
   ]
  }
 ],
 "metadata": {
  "kernelspec": {
   "display_name": "Python 3",
   "language": "python",
   "name": "python3"
  },
  "language_info": {
   "codemirror_mode": {
    "name": "ipython",
    "version": 3
   },
   "file_extension": ".py",
   "mimetype": "text/x-python",
   "name": "python",
   "nbconvert_exporter": "python",
   "pygments_lexer": "ipython3",
   "version": "3.6.7"
  }
 },
 "nbformat": 4,
 "nbformat_minor": 2
}
